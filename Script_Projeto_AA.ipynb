{
 "cells": [
  {
   "cell_type": "markdown",
   "id": "038c0156",
   "metadata": {},
   "source": [
    "## Script do projeto final de Aprendizagem automática"
   ]
  },
  {
   "cell_type": "markdown",
   "id": "6ccc3856",
   "metadata": {},
   "source": [
    "Este script usa o dataset \"online_shoppers_intention.csv\" como base de trabalho.\n",
    "      \n",
    "      1. Importação das bibliotecas necessárias.\n",
    "      Carregamento e leitura dos dados."
   ]
  },
  {
   "cell_type": "code",
   "execution_count": null,
   "id": "dcbbd672",
   "metadata": {},
   "outputs": [],
   "source": [
    "import pandas as pd\n",
    "import numpy as np\n",
    "dataset = pd.read_csv('online_shoppers_intention.csv')\n",
    "dataset.head()"
   ]
  },
  {
   "cell_type": "markdown",
   "id": "06408c01",
   "metadata": {},
   "source": [
    "     2. Limpeza de dados e Análise Exploratória."
   ]
  },
  {
   "cell_type": "markdown",
   "id": "b2845d6b",
   "metadata": {},
   "source": [
    "As colunas com valores nulos ou N/A foram alteradas para a média dos valores da respectiva coluna."
   ]
  },
  {
   "cell_type": "code",
   "execution_count": null,
   "id": "080c3c7e",
   "metadata": {},
   "outputs": [],
   "source": [
    "dataset.loc[dataset['Administrative'] == 0, 'Administrative'] = dataset['Administrative'].mean()\n",
    "dataset.loc[dataset['Administrative_Duration'] == 0, 'Administrative_Duration'] = dataset['Administrative_Duration'].mean()\n",
    "dataset.loc[dataset['Informational'] == 0, 'Informational'] = dataset['Informational'].mean()\n",
    "dataset.loc[dataset['Informational_Duration'] == 0, 'Informational_Duration'] = dataset['Informational_Duration'].mean()\n",
    "dataset.loc[dataset['ProductRelated_Duration'] == 0, 'ProductRelated_Duration'] = dataset['ProductRelated_Duration'].mean()\n",
    "dataset.loc[dataset['PageValues'] == 0, 'PageValues'] = dataset['PageValues'].mean()\n",
    "dataset['ProductRelated_Duratione'].fillna(dataset['ProductRelated_Duratione'].mean(), inplace = True)"
   ]
  },
  {
   "cell_type": "markdown",
   "id": "706c2dad",
   "metadata": {},
   "source": [
    "A coluna dos meses passou a ser representada por números e o seu tipo foi alterdado para inteiro."
   ]
  },
  {
   "cell_type": "code",
   "execution_count": null,
   "id": "c5edefa4",
   "metadata": {},
   "outputs": [],
   "source": [
    "dataset.loc[dataset['Month'] == 'Feb', 'Month'] = 2\n",
    "dataset.loc[dataset['Month'] == 'Mar', 'Month'] = 3\n",
    "dataset.loc[dataset['Month'] == 'May', 'Month'] = 5\n",
    "dataset.loc[dataset['Month'] == 'June', 'Month'] = 6\n",
    "dataset.loc[dataset['Month'] == 'Jul', 'Month'] = 7\n",
    "dataset.loc[dataset['Month'] == 'Aug', 'Month'] = 8\n",
    "dataset.loc[dataset['Month'] == 'Sep', 'Month'] = 9\n",
    "dataset.loc[dataset['Month'] == 'Oct', 'Month'] = 10\n",
    "dataset.loc[dataset['Month'] == 'Nov', 'Month'] = 11\n",
    "dataset.loc[dataset['Month'] == 'Dec', 'Month'] = 12\n",
    "\n",
    "print(dataset)"
   ]
  },
  {
   "cell_type": "code",
   "execution_count": null,
   "id": "366347a4",
   "metadata": {},
   "outputs": [],
   "source": [
    "dataset['Month'].astype(int)"
   ]
  },
  {
   "cell_type": "markdown",
   "id": "01b7ca7d",
   "metadata": {},
   "source": [
    "Alteração do tipo de variável das colunas: \"Administrative\", \"Informational\", \"ProductRelated\" para inteiro."
   ]
  },
  {
   "cell_type": "code",
   "execution_count": null,
   "id": "87c3b310",
   "metadata": {},
   "outputs": [],
   "source": [
    "dataset['Administrative'].astype(int)"
   ]
  },
  {
   "cell_type": "code",
   "execution_count": null,
   "id": "93f51386",
   "metadata": {},
   "outputs": [],
   "source": [
    "dataset['Informational'].astype(int)"
   ]
  },
  {
   "cell_type": "code",
   "execution_count": null,
   "id": "860d892b",
   "metadata": {},
   "outputs": [],
   "source": [
    "dataset['ProductRelated'].astype(int)"
   ]
  },
  {
   "cell_type": "markdown",
   "id": "3232280b",
   "metadata": {},
   "source": [
    "Contrução de um grafico de barras.\\\n",
    "Variáveis: \"Month\" e \"ProductRelated_Duration\"\n",
    "\n",
    "Importação da biblioteca \"matplotlib\"."
   ]
  },
  {
   "cell_type": "code",
   "execution_count": null,
   "id": "c2a5b310",
   "metadata": {},
   "outputs": [],
   "source": [
    "from matplotlib import pyplot as plt\n",
    "x = dataset['Month']\n",
    "y = dataset['ProductRelated_Duration']\n",
    "plt.xlabel('Mês')\n",
    "plt.ylabel('Página: Product Related')\n",
    "plt.title('Visitas à pagina por mês')\n",
    "plt.bar(x,y)"
   ]
  },
  {
   "cell_type": "markdown",
   "id": "d57a0725",
   "metadata": {},
   "source": [
    "Contrução da matriz de correlação."
   ]
  },
  {
   "cell_type": "code",
   "execution_count": null,
   "id": "ec27bd08",
   "metadata": {},
   "outputs": [],
   "source": [
    "\n",
    "#seleciona as primeiras 200 linhas\n",
    "X = dataset.iloc[-1,:].values\n",
    "Y = dataset.iloc[200,:].values\n",
    "\n",
    "dataset.head()\n",
    "\n",
    "#Visualização da correlação entre variaveis\n",
    "\n",
    "sns.heatmap(dataset.corr())\n"
   ]
  },
  {
   "cell_type": "markdown",
   "id": "6a25dd66",
   "metadata": {},
   "source": [
    "    3. Aplicação do métodos de Machine Learning."
   ]
  },
  {
   "cell_type": "markdown",
   "id": "225255ca",
   "metadata": {},
   "source": [
    "*Regressão logistica*"
   ]
  },
  {
   "cell_type": "code",
   "execution_count": null,
   "id": "445d583b",
   "metadata": {},
   "outputs": [],
   "source": [
    "#Importação do modelo e escolha das features: Bounce Rates e Exit Rates\n",
    "#target: Weekend\n",
    "from sklearn import linear_model\n",
    "X = dataset.iloc[:,[5,6]]\n",
    "y = dataset.iloc[:,16]\n",
    "#Treino do modelo de regressão logística.\n",
    "clf = linear_model.LogisticRegression(C=1e40, solver='newton-cg')\n",
    "fitted_model = clf.fit(X, y)\n",
    "#Prevê a classificação dos dados.\n",
    "prediction_result = clf.predict([(0.20,0.15)])\n",
    "print(prediction_result)"
   ]
  },
  {
   "cell_type": "markdown",
   "id": "62634c86",
   "metadata": {},
   "source": [
    "*K-NN*"
   ]
  },
  {
   "cell_type": "code",
   "execution_count": null,
   "id": "4ddd34e4",
   "metadata": {},
   "outputs": [],
   "source": [
    "X = dataset.iloc[:, [6,7]].values\n",
    "y = dataset.iloc[:, 16].values\n",
    "from sklearn.model_selection import train_test_split\n",
    "X_train, X_test, y_train, y_test = train_test_split(X, y, test_size=0.30)\n",
    "from sklearn.neighbors import KNeighborsClassifier\n",
    "#Criação do classificador KNN\n",
    "knn = KNeighborsClassifier(n_neighbors=5)\n",
    "from sklearn import metrics\n",
    "#Treino do modelo\n",
    "knn.fit(X_train, y_train)\n",
    "y_pred = knn.predict(X_test)\n",
    "from sklearn.metrics import accuracy_score\n",
    "metrics.confusion_matrix(y_test, y_pred)\n",
    "print((\"Test accuracy: \", knn.score(X_test, y_test)))\n",
    "print((\"Train accuracy: \",knn.score(X_train, y_train)))\n",
    "#Preve a resposta a partir do datset de teste\n",
    "y_pred = knn.predict(X_test)\n",
    "print(y_pred)\n",
    "from sklearn.model_selection import cross_val_score\n",
    "print(X_train.shape[0])\n",
    "print (int(np.sqrt(X_train.shape[0])))\n",
    "maxK = int(np.sqrt(X_train.shape[0]))\n",
    "print(maxK)"
   ]
  },
  {
   "cell_type": "markdown",
   "id": "afa02e9e",
   "metadata": {},
   "source": [
    "*K-Means*"
   ]
  },
  {
   "cell_type": "code",
   "execution_count": null,
   "id": "96cc0b64",
   "metadata": {},
   "outputs": [],
   "source": [
    "#Importação do modelo\n",
    "from sklearn.cluster import KMeans\n",
    "#Criação do objeto do modelo K-Means\n",
    "data = dataset.iloc[:, [6,7]].values #Dataset apenas com as colunas de Bounce Rate e Exit Rate\n",
    "model = KMeans()\n",
    "#Treino do modelo\n",
    "model.fit(data)\n",
    "#Numero dos culters\n",
    "print('\\nNumero dos culters por defeito : ',model.n_clusters)\n",
    "predict = model.predict(data)\n",
    "print('\\nCLusters: ',predict) \n",
    "#Escolha do número de clusters\n",
    "model_n3 = KMeans(n_clusters=3)\n",
    "model_n3.fit(data)\n",
    "print('\\nNumero dos culters : ',model_n3.n_clusters)\n",
    "predict_3 = model_n3.predict(data)\n",
    "print('\\nCLusters',predict_3) \n"
   ]
  }
 ],
 "metadata": {
  "kernelspec": {
   "display_name": "Python 3 (ipykernel)",
   "language": "python",
   "name": "python3"
  },
  "language_info": {
   "codemirror_mode": {
    "name": "ipython",
    "version": 3
   },
   "file_extension": ".py",
   "mimetype": "text/x-python",
   "name": "python",
   "nbconvert_exporter": "python",
   "pygments_lexer": "ipython3",
   "version": "3.9.12"
  }
 },
 "nbformat": 4,
 "nbformat_minor": 5
}
